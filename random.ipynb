{
 "cells": [
  {
   "cell_type": "code",
   "execution_count": 1,
   "metadata": {},
   "outputs": [
    {
     "name": "stderr",
     "output_type": "stream",
     "text": [
      "d:\\proj\\Time series imputation\\venv\\lib\\site-packages\\tqdm\\auto.py:21: TqdmWarning: IProgress not found. Please update jupyter and ipywidgets. See https://ipywidgets.readthedocs.io/en/stable/user_install.html\n",
      "  from .autonotebook import tqdm as notebook_tqdm\n"
     ]
    }
   ],
   "source": [
    "import h5py\n",
    "import torch\n",
    "import torch.nn as nn\n",
    "import torch.optim as optim\n",
    "import numpy as np\n",
    "from torch.utils.data import dataloader , dataset\n"
   ]
  },
  {
   "cell_type": "code",
   "execution_count": 4,
   "metadata": {},
   "outputs": [],
   "source": [
    "from Modeling.Imputation_model import DualBranchModel\n"
   ]
  },
  {
   "cell_type": "markdown",
   "metadata": {},
   "source": [
    "## Reading the data from.h5"
   ]
  },
  {
   "cell_type": "code",
   "execution_count": 17,
   "metadata": {},
   "outputs": [],
   "source": [
    "import h5py\n",
    "\n",
    "def load_from_h5(file_path):\n",
    "    \"\"\"\n",
    "    Loads data from an HDF5 file.\n",
    "\n",
    "    Args:\n",
    "        file_path (str): The path to the HDF5 file.\n",
    "\n",
    "    Returns:\n",
    "        dict: The loaded data.\n",
    "    \"\"\"\n",
    "    data = {}\n",
    "    with h5py.File(file_path, \"r\") as hf:\n",
    "        # Iterate through the groups (train, val, test)\n",
    "        for group_name in hf.keys(): \n",
    "            data[group_name] = {}\n",
    "            # Iterate through datasets within each group\n",
    "            for dataset_name in hf[group_name].keys():  \n",
    "                data[group_name][dataset_name] = hf[group_name][dataset_name][()] \n",
    "    return data"
   ]
  },
  {
   "cell_type": "code",
   "execution_count": 20,
   "metadata": {},
   "outputs": [],
   "source": [
    "z = load_from_h5('D:\\proj\\Time series imputation\\Airquality_DataSets\\Air_time_series_dataset\\Air_time_series_dataset.h5')\n"
   ]
  },
  {
   "cell_type": "code",
   "execution_count": 21,
   "metadata": {},
   "outputs": [
    {
     "data": {
      "text/plain": [
       "((203, 100, 11), (71, 100, 11), 100)"
      ]
     },
     "execution_count": 21,
     "metadata": {},
     "output_type": "execute_result"
    }
   ],
   "source": [
    "z['train']['X'].shape , z['val']['missing_mask'].shape , z['test']['X'].shape[1]\n"
   ]
  },
  {
   "cell_type": "code",
   "execution_count": 22,
   "metadata": {},
   "outputs": [
    {
     "data": {
      "text/plain": [
       "device(type='cuda', index=1)"
      ]
     },
     "execution_count": 22,
     "metadata": {},
     "output_type": "execute_result"
    }
   ],
   "source": [
    "device = torch.device(\"cuda:1\" if torch.cuda.is_available() else \"cpu\")\n",
    "device"
   ]
  },
  {
   "cell_type": "markdown",
   "metadata": {},
   "source": [
    "## Loading tha Data"
   ]
  },
  {
   "cell_type": "code",
   "execution_count": 23,
   "metadata": {},
   "outputs": [],
   "source": [
    "train_dataloader = [\n",
    "            {\n",
    "                'X': torch.tensor(z['train']['X'][i], dtype=torch.float32),\n",
    "              #  'missing_mask': torch.tensor(z['train']['missing_mask'][i], dtype=torch.float32),\n",
    "              #  'delta_mask': torch.tensor(train_data['delta_mask'][i], dtype=torch.float32),\n",
    "              #  'indicating_mask': torch.tensor(train_data['indicating_mask'][i], dtype=torch.float32),\n",
    "               # 'X_hat': torch.tensor(train_data['X_hat'][i], dtype=torch.float32)\n",
    "            }\n",
    "            for i in range(len(z['train']['X']))\n",
    "        ]"
   ]
  },
  {
   "cell_type": "code",
   "execution_count": 24,
   "metadata": {},
   "outputs": [],
   "source": [
    "val_dataloader = [\n",
    "            {\n",
    "                'X': torch.tensor(z['val']['X'][i], dtype=torch.float32),\n",
    "                'missing_mask': torch.tensor(z['val']['missing_mask'][i], dtype=torch.float32),\n",
    "                'delta_mask': torch.tensor(z['val']['delta_mask'][i], dtype=torch.float32),\n",
    "                'indicating_mask': torch.tensor(z['val']['indicating_mask'][i], dtype=torch.float32),\n",
    "                'X_hat': torch.tensor(z['val']['X_hat'][i], dtype=torch.float32)\n",
    "            }\n",
    "            for i in range(len(z['val']['X']))\n",
    "        ]"
   ]
  },
  {
   "cell_type": "code",
   "execution_count": 25,
   "metadata": {},
   "outputs": [],
   "source": [
    "test_dataloader = [\n",
    "            {\n",
    "                'X': torch.tensor(z['test']['X'][i], dtype=torch.float32),\n",
    "                'missing_mask': torch.tensor(z['test']['missing_mask'][i], dtype=torch.float32),\n",
    "                'delta_mask': torch.tensor(z['test']['delta_mask'][i], dtype=torch.float32),\n",
    "                'indicating_mask': torch.tensor(z['test']['indicating_mask'][i], dtype=torch.float32),\n",
    "                'X_hat': torch.tensor(z['test']['X_hat'][i], dtype=torch.float32)\n",
    "            }\n",
    "            for i in range(len(z['test']['X']))\n",
    "        ]"
   ]
  },
  {
   "cell_type": "code",
   "execution_count": 26,
   "metadata": {},
   "outputs": [],
   "source": [
    "def train_model(model, dataloader, optimizer, device, epochs):\n",
    "    model.train()\n",
    "    for epoch in range(epochs):\n",
    "        total_loss = 0\n",
    "        for data in dataloader:\n",
    "            # Move data to the appropriate device\n",
    "            for key in data:\n",
    "                data[key] = data[key].to(device)\n",
    "\n",
    "            optimizer.zero_grad()\n",
    "            outputs = model.calc_loss(data)  # Forward pass and loss calculation\n",
    "            loss = outputs[\"reconstruction_loss\"]  # Get the reconstruction loss\n",
    "            loss.backward()  # Backpropagation\n",
    "            optimizer.step()  # Optimize\n",
    "\n",
    "            total_loss += loss.item()\n",
    "        \n",
    "        print(f\"Epoch [{epoch + 1}/{epochs}], Loss: {total_loss / len(dataloader):.4f}\")"
   ]
  },
  {
   "cell_type": "code",
   "execution_count": 27,
   "metadata": {},
   "outputs": [],
   "source": [
    "def test_model(model, dataloader, device):\n",
    "    model.eval()\n",
    "    with torch.no_grad():\n",
    "        total_loss = 0\n",
    "        for data in dataloader:\n",
    "            for key in data:\n",
    "                data[key] = data[key].to(device)\n",
    "\n",
    "            outputs = model.calc_loss(data)  # Forward pass for testing\n",
    "            loss = outputs[\"final_reconstruction_MAE\"]  # Get the reconstruction loss\n",
    "            total_loss += loss.item()\n",
    "        \n",
    "        print(f\"Test Loss: {total_loss / len(dataloader):.4f}\")"
   ]
  },
  {
   "cell_type": "code",
   "execution_count": 28,
   "metadata": {},
   "outputs": [],
   "source": [
    "def call_model():\n",
    "    model_0 = DualBranchModel(n_layers=2,d_time=100,d_feature=z['test']['X'] , d_model=64,d_inner=256,n_head=8 , d_k=64//8 , d_v=64,dropout=0.1)\n",
    "    return model_0"
   ]
  },
  {
   "cell_type": "code",
   "execution_count": null,
   "metadata": {},
   "outputs": [],
   "source": [
    "if __name__ == \"__main__\":\n",
    "    # Load data from the .h5 file\n",
    "    file_path = 'path/to/your/dataset.h5'  # Specify your dataset path\n",
    "    \n",
    "\n",
    "    # Set device\n",
    "    device = torch.device('cuda:1' if torch.cuda.is_available() else 'cpu')\n",
    "     #  n_layers=2,d_time=100,d_feature=z['test']['X'] , d_model=64,d_inner=256,n_head=8 , d_k=64//8 , d_v=64,dropout=0.1\n",
    "    # Hyperparameters\n",
    "    n_layers = 2\n",
    "    d_time =   z['test']['X'].shape[1]       #  time dimension\n",
    "    d_feature = z['test']['X'].shape[-1]       # Example feature dimension\n",
    "    d_model = 64        # Embedding dimension\n",
    "    d_inner = 256        # Inner layer dimension\n",
    "    n_head = 8           # Number of heads in multi-head attention\n",
    "    d_k = 8            # Dimension of keys\n",
    "    d_v = 8           # Dimension of values\n",
    "    dropout = 0.1        # Dropout rate\n",
    "    epochs = 20          # Number of training epochs\n",
    "    learning_rate = 0.1 # Learning rate\n",
    "\n",
    "    # Initialize the model, optimizer\n",
    "    model = DualBranchModel(\n",
    "        n_layers=n_layers,\n",
    "        d_time=d_time,\n",
    "        d_feature=d_feature,\n",
    "        d_model=d_model,\n",
    "        d_inner=d_inner,\n",
    "        n_head=n_head,\n",
    "        d_k=d_k,\n",
    "        d_v=d_v,\n",
    "        dropout=dropout,\n",
    "        device=device\n",
    "    ).to(device)\n",
    "\n",
    "    optimizer = optim.Adam(model.parameters(), lr=learning_rate)\n",
    "\n",
    "    # Train the model\n",
    "    train_model(model, train_dataloader, optimizer, device, epochs)\n"
   ]
  },
  {
   "cell_type": "code",
   "execution_count": null,
   "metadata": {},
   "outputs": [],
   "source": []
  }
 ],
 "metadata": {
  "kernelspec": {
   "display_name": "Python 3",
   "language": "python",
   "name": "python3"
  },
  "language_info": {
   "codemirror_mode": {
    "name": "ipython",
    "version": 3
   },
   "file_extension": ".py",
   "mimetype": "text/x-python",
   "name": "python",
   "nbconvert_exporter": "python",
   "pygments_lexer": "ipython3",
   "version": "3.10.0"
  }
 },
 "nbformat": 4,
 "nbformat_minor": 2
}
