{
 "cells": [
  {
   "cell_type": "code",
   "execution_count": 6,
   "metadata": {},
   "outputs": [
    {
     "name": "stdout",
     "output_type": "stream",
     "text": [
      "(6, 1)\n"
     ]
    }
   ],
   "source": [
    "import pycuda.driver as cuda\n",
    "cuda.init()\n",
    "print(cuda.Device(0).compute_capability())"
   ]
  },
  {
   "cell_type": "code",
   "execution_count": 7,
   "metadata": {},
   "outputs": [
    {
     "data": {
      "text/plain": [
       "'1.11.0+cu115'"
      ]
     },
     "execution_count": 7,
     "metadata": {},
     "output_type": "execute_result"
    }
   ],
   "source": [
    "import torch\n",
    "torch.__version__"
   ]
  },
  {
   "cell_type": "code",
   "execution_count": 8,
   "metadata": {},
   "outputs": [
    {
     "name": "stdout",
     "output_type": "stream",
     "text": [
      "NVIDIA GeForce GTX 1080 Ti\n"
     ]
    }
   ],
   "source": [
    "print(torch.cuda.get_device_name(1))"
   ]
  },
  {
   "cell_type": "code",
   "execution_count": 9,
   "metadata": {},
   "outputs": [
    {
     "name": "stdout",
     "output_type": "stream",
     "text": [
      "Using GPU: 0\n"
     ]
    }
   ],
   "source": [
    "import torch\n",
    "\n",
    "def select_least_used_gpu():\n",
    "    least_used_gpu = None\n",
    "    min_memory_usage = float('inf')\n",
    "\n",
    "    for i in range(torch.cuda.device_count()):\n",
    "        memory_reserved = torch.cuda.memory_reserved(i)\n",
    "        memory_allocated = torch.cuda.memory_allocated(i)\n",
    "        used_memory = memory_allocated / memory_reserved if memory_reserved else 0\n",
    "\n",
    "        if used_memory < min_memory_usage:\n",
    "            min_memory_usage = used_memory\n",
    "            least_used_gpu = i\n",
    "\n",
    "    return least_used_gpu\n",
    "\n",
    "# Set the selected GPU\n",
    "gpu_id = select_least_used_gpu()\n",
    "if gpu_id is not None:\n",
    "    torch.cuda.set_device(gpu_id)\n",
    "    print(f\"Using GPU: {gpu_id}\")\n",
    "else:\n",
    "    print(\"No available GPU found.\")\n"
   ]
  },
  {
   "cell_type": "code",
   "execution_count": 15,
   "metadata": {},
   "outputs": [
    {
     "name": "stdout",
     "output_type": "stream",
     "text": [
      "Available  device: cuda:1\n"
     ]
    }
   ],
   "source": [
    "import torch\n",
    "\n",
    "# Check if GPU 1 is available\n",
    "if torch.cuda.device_count() > 1:\n",
    "    # Using GPU 1\n",
    "    device = torch.device(\"cuda:1\")\n",
    "else:\n",
    "    # Fallback to CPU if GPU 1 is not available\n",
    "    device = torch.device(\"cpu\")\n",
    "    print(\"GPU 1 not available. Falling back to CPU.\")\n",
    "\n",
    "print(\"Available  device:\", device)"
   ]
  },
  {
   "cell_type": "code",
   "execution_count": 16,
   "metadata": {},
   "outputs": [
    {
     "name": "stdout",
     "output_type": "stream",
     "text": [
      "Using device: cuda:1\n"
     ]
    }
   ],
   "source": [
    "device = torch.device(\"cuda:1\" if torch.cuda.is_available() and torch.cuda.device_count() > 1 else \"cpu\")\n",
    "\n",
    "print(\"Using device:\", device)"
   ]
  },
  {
   "cell_type": "code",
   "execution_count": null,
   "metadata": {},
   "outputs": [],
   "source": []
  }
 ],
 "metadata": {
  "kernelspec": {
   "display_name": "Python 3",
   "language": "python",
   "name": "python3"
  },
  "language_info": {
   "codemirror_mode": {
    "name": "ipython",
    "version": 3
   },
   "file_extension": ".py",
   "mimetype": "text/x-python",
   "name": "python",
   "nbconvert_exporter": "python",
   "pygments_lexer": "ipython3",
   "version": "3.10.0"
  }
 },
 "nbformat": 4,
 "nbformat_minor": 2
}
